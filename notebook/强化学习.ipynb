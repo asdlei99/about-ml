{
 "cells": [
  {
   "cell_type": "markdown",
   "metadata": {},
   "source": [
    "## 一、强化学习术语\n",
    "- 智体(agent)\n",
    "- 环境(Environment)\n",
    "- 状态(State) s \n",
    "- 动作(Action) a \n",
    "- 策略(Policy) π \n",
    "- 奖励(Reward) r \n",
    "- 状态转移概率 T"
   ]
  },
  {
   "cell_type": "markdown",
   "metadata": {},
   "source": [
    "## 二、马尔科夫性"
   ]
  },
  {
   "cell_type": "markdown",
   "metadata": {},
   "source": [
    "## 三、马尔科夫决策过程(MDP)\n",
    "- 状态空间 S：Agent 可能感知的所有状态\n",
    "- 动作空间 A：Agent 在每个状态可以采取的所有动作\n",
    "- 奖励函数 R：在状态s上执行动作a，状态转移到s’获得的奖励\n",
    "- 状态转移函数 T：环境从s转移到s’的概率"
   ]
  },
  {
   "cell_type": "markdown",
   "metadata": {},
   "source": [
    "## 四、优化参数\n",
    "- 折扣率 γ∈0,1\n",
    "\n",
    "- 最优策略定义\n",
    "\n",
    "- 寻找最优的状态值函数\n",
    "\n",
    "- 最优状态动作值函数"
   ]
  },
  {
   "cell_type": "code",
   "execution_count": 10,
   "metadata": {},
   "outputs": [],
   "source": [
    "%matplotlib inline\n",
    "import numpy as np\n",
    "import matplotlib.pyplot as plt"
   ]
  },
  {
   "cell_type": "markdown",
   "metadata": {},
   "source": [
    "## 资料\n",
    "1. 《Reinforcement Learning: An Introduction》，http://incompleteideas.net/book/the-book-2nd.html\n",
    "2. 《Reinforcement Learning》，https://cn.udacity.com/course/reinforcement-learning--ud600"
   ]
  }
 ],
 "metadata": {
  "kernelspec": {
   "display_name": "Python 3",
   "language": "python",
   "name": "python3"
  },
  "language_info": {
   "codemirror_mode": {
    "name": "ipython",
    "version": 3
   },
   "file_extension": ".py",
   "mimetype": "text/x-python",
   "name": "python",
   "nbconvert_exporter": "python",
   "pygments_lexer": "ipython3",
   "version": "3.6.5"
  }
 },
 "nbformat": 4,
 "nbformat_minor": 2
}
