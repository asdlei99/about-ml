{
 "cells": [
  {
   "cell_type": "markdown",
   "metadata": {},
   "source": [
    "# 计算机视觉"
   ]
  },
  {
   "cell_type": "code",
   "execution_count": null,
   "metadata": {},
   "outputs": [],
   "source": [
    "#导入第三方库\n",
    "%matplotlib inline\n",
    "import matplotlib.pyplot as plt\n",
    "import numpy as np\n",
    "import cv2"
   ]
  },
  {
   "cell_type": "markdown",
   "metadata": {},
   "source": [
    "## 基本图像处理"
   ]
  },
  {
   "cell_type": "code",
   "execution_count": 2,
   "metadata": {},
   "outputs": [],
   "source": [
    "#摄像头IO,打开摄像头并录像\n",
    "camera_in = cv2.VideoCapture(0)\n",
    "fps = 30\n",
    "size = int(camera_in.get(cv2.CAP_PROP_FRAME_WIDTH)), int(camera_in.get(cv2.CAP_PROP_FRAME_HEIGHT)) \n",
    "video_out = cv2.VideoWriter('./test1.avi', cv2.VideoWriter_fourcc('I', '4', '2', '0'), fps, size)\n",
    "frame_remaining = 10 * fps - 1 #10s\n",
    "        \n",
    "ret, frame = video_in.read()\n",
    "while ret and frame_remaining > 0:\n",
    "    video_out.write(frame)\n",
    "    ret, frame = video_in.read()\n",
    "    frame_remaining -= 1\n",
    "video_in.release()"
   ]
  },
  {
   "cell_type": "code",
   "execution_count": null,
   "metadata": {},
   "outputs": [],
   "source": [
    "#视频IO，打开本地视频文件并显示\n",
    "%debug\n",
    "video_in = cv2.VideoCapture('./test1.mp4')\n",
    "fps = video_in.get(cv2.CAP_PROP_FPS)\n",
    "frame_count = video_in.get(cv2.CAP_PROP_FRAME_COUNT)\n",
    "\n",
    "ret, frame = video_in.read()\n",
    "while ret and cv2.waitKey(1) == -1:\n",
    "    if frame_count % fps == 0:\n",
    "        plt.imshow(frame)\n",
    "        plt.show()\n",
    "    frame_count -= 1\n",
    "    ret, frame = video_in.read()\n",
    "video_in.release()"
   ]
  }
 ],
 "metadata": {
  "kernelspec": {
   "display_name": "Python 3",
   "language": "python",
   "name": "python3"
  },
  "language_info": {
   "codemirror_mode": {
    "name": "ipython",
    "version": 3
   },
   "file_extension": ".py",
   "mimetype": "text/x-python",
   "name": "python",
   "nbconvert_exporter": "python",
   "pygments_lexer": "ipython3",
   "version": "3.6.5"
  }
 },
 "nbformat": 4,
 "nbformat_minor": 2
}
